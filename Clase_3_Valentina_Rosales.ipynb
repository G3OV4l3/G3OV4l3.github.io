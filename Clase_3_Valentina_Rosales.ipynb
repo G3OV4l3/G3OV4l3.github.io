{
  "nbformat": 4,
  "nbformat_minor": 0,
  "metadata": {
    "colab": {
      "provenance": [],
      "authorship_tag": "ABX9TyNgpoM6vdir9pyhu57PazPR",
      "include_colab_link": true
    },
    "kernelspec": {
      "name": "python3",
      "display_name": "Python 3"
    },
    "language_info": {
      "name": "python"
    }
  },
  "cells": [
    {
      "cell_type": "markdown",
      "metadata": {
        "id": "view-in-github",
        "colab_type": "text"
      },
      "source": [
        "<a href=\"https://colab.research.google.com/github/G3OV4l3/G3OV4l3.github.io/blob/main/Clase_3_Valentina_Rosales.ipynb\" target=\"_parent\"><img src=\"https://colab.research.google.com/assets/colab-badge.svg\" alt=\"Open In Colab\"/></a>"
      ]
    },
    {
      "cell_type": "markdown",
      "source": [
        "#Clase 3_realizada por mi"
      ],
      "metadata": {
        "id": "YH3DmCREJ_Su"
      }
    },
    {
      "cell_type": "code",
      "source": [
        "x=int(input(\"Introduzca la edad de Juan: \"))\n",
        "y=int(input(\"Introduzca la edad de Maria: \"))"
      ],
      "metadata": {
        "id": "DyJrU-AzJ-ys",
        "colab": {
          "base_uri": "https://localhost:8080/"
        },
        "outputId": "dcc2a236-23b4-4db3-88b2-640599d07468"
      },
      "execution_count": 64,
      "outputs": [
        {
          "name": "stdout",
          "output_type": "stream",
          "text": [
            "Introduzca la edad de Juan: 12\n",
            "Introduzca la edad de Maria: 20\n"
          ]
        }
      ]
    },
    {
      "cell_type": "code",
      "source": [
        "suma_edades= x+y\n",
        "suma_edades"
      ],
      "metadata": {
        "id": "lXjJAWjTk7vr",
        "colab": {
          "base_uri": "https://localhost:8080/"
        },
        "outputId": "4f22abb7-bdd2-4f5b-8679-1b7dc56b67d7"
      },
      "execution_count": 65,
      "outputs": [
        {
          "output_type": "execute_result",
          "data": {
            "text/plain": [
              "32"
            ]
          },
          "metadata": {},
          "execution_count": 65
        }
      ]
    },
    {
      "cell_type": "code",
      "source": [
        "#Agregar elementos a una lista\n",
        "lista_1=[2,3,4,5,6]\n",
        "lista_1.append(8)\n",
        "lista_1"
      ],
      "metadata": {
        "id": "E6rsSI3Ikd_u",
        "colab": {
          "base_uri": "https://localhost:8080/"
        },
        "outputId": "5f354ca8-e982-43c7-de26-710a1466e2b0"
      },
      "execution_count": 13,
      "outputs": [
        {
          "output_type": "execute_result",
          "data": {
            "text/plain": [
              "[2, 3, 4, 5, 6, 8]"
            ]
          },
          "metadata": {},
          "execution_count": 13
        }
      ]
    },
    {
      "cell_type": "code",
      "source": [
        "#INSERT para agregar un nuevo elemento y definir su posicion\n",
        "lista_2=[1,2,3,4,5]\n",
        "nuevo_elemento=100\n",
        "lista_2.insert(1,nuevo_elemento)\n",
        "print (lista_2)"
      ],
      "metadata": {
        "id": "Bg6AQuEhkIko",
        "colab": {
          "base_uri": "https://localhost:8080/"
        },
        "outputId": "efa4c5ac-8cb8-4e9c-8b33-4c2aeb22366b"
      },
      "execution_count": 10,
      "outputs": [
        {
          "output_type": "stream",
          "name": "stdout",
          "text": [
            "[1, 100, 2, 3, 4, 5]\n"
          ]
        }
      ]
    },
    {
      "cell_type": "code",
      "source": [
        "#Eliminar elemento de una lista con remove()\n",
        "lista_1.remove(4)\n",
        "lista_1"
      ],
      "metadata": {
        "colab": {
          "base_uri": "https://localhost:8080/"
        },
        "id": "aYEwIXSoPWno",
        "outputId": "7281aab7-47b6-4fa6-c086-234e4c923cc5"
      },
      "execution_count": 14,
      "outputs": [
        {
          "output_type": "execute_result",
          "data": {
            "text/plain": [
              "[2, 3, 5, 6, 8]"
            ]
          },
          "metadata": {},
          "execution_count": 14
        }
      ]
    },
    {
      "cell_type": "code",
      "source": [
        "#Eliminar elemento de una lita con pop()\n",
        "lista_1.pop(0)\n",
        "lista_1\n",
        "#pop elimina elementos basados en su posicion, en python como en muchos lenguahes la primera posicion es 0"
      ],
      "metadata": {
        "colab": {
          "base_uri": "https://localhost:8080/"
        },
        "id": "eur0OrTLPG0s",
        "outputId": "9920ee1d-e862-4a05-caf8-5c37194e1d93"
      },
      "execution_count": 15,
      "outputs": [
        {
          "output_type": "execute_result",
          "data": {
            "text/plain": [
              "[3, 5, 6, 8]"
            ]
          },
          "metadata": {},
          "execution_count": 15
        }
      ]
    },
    {
      "cell_type": "markdown",
      "source": [
        "#VEAMOS COMO FUNCIONA EN DETALLE CON UN EJEMPLO"
      ],
      "metadata": {
        "id": "vxa2fbGQQBEH"
      }
    },
    {
      "cell_type": "markdown",
      "source": [
        "#FOR"
      ],
      "metadata": {
        "id": "9MgwUh6dP8M8"
      }
    },
    {
      "cell_type": "code",
      "source": [
        "for i in [2,4,6,8]:\n",
        "  print (i+1)\n"
      ],
      "metadata": {
        "colab": {
          "base_uri": "https://localhost:8080/"
        },
        "id": "WH4tyx_6QbDL",
        "outputId": "df4864f8-9740-45c8-eb95-ff1f3dab72e6"
      },
      "execution_count": 17,
      "outputs": [
        {
          "output_type": "stream",
          "name": "stdout",
          "text": [
            "3\n",
            "5\n",
            "7\n",
            "9\n"
          ]
        }
      ]
    },
    {
      "cell_type": "code",
      "source": [
        "#este metodo nos permite saber el total de elementos en una lista len()\n",
        "len(lista_1)"
      ],
      "metadata": {
        "colab": {
          "base_uri": "https://localhost:8080/"
        },
        "id": "IeRUIZgaQwX4",
        "outputId": "9ca1b6ed-09fe-468d-a773-c4ccfd265466"
      },
      "execution_count": 18,
      "outputs": [
        {
          "output_type": "execute_result",
          "data": {
            "text/plain": [
              "4"
            ]
          },
          "metadata": {},
          "execution_count": 18
        }
      ]
    },
    {
      "cell_type": "code",
      "source": [
        "#esto me muestra las posiciones\n",
        "for i in range(len(lista_1)):\n",
        " print (i)"
      ],
      "metadata": {
        "colab": {
          "base_uri": "https://localhost:8080/"
        },
        "id": "oZUsh-d5RGs4",
        "outputId": "38cc3ee6-2d96-46bf-a49b-cb2f72bc2777"
      },
      "execution_count": 21,
      "outputs": [
        {
          "output_type": "stream",
          "name": "stdout",
          "text": [
            "0\n",
            "1\n",
            "2\n",
            "3\n"
          ]
        }
      ]
    },
    {
      "cell_type": "code",
      "source": [
        "x=[1,4,6,2,\"hola\"]#apuntando a una lista\n",
        "\n",
        "for i in x:   #inicio\n",
        "  print(i)\n",
        "  print(\"final\")"
      ],
      "metadata": {
        "colab": {
          "base_uri": "https://localhost:8080/"
        },
        "id": "Fu-XC-m8Rjuc",
        "outputId": "b7d85904-5a6b-4577-bb40-d83dafabf2e1"
      },
      "execution_count": 23,
      "outputs": [
        {
          "output_type": "stream",
          "name": "stdout",
          "text": [
            "1\n",
            "final\n",
            "4\n",
            "final\n",
            "6\n",
            "final\n",
            "2\n",
            "final\n",
            "hola\n",
            "final\n"
          ]
        }
      ]
    },
    {
      "cell_type": "code",
      "source": [
        "for i in range (0,10,2): #empieza en cero hasta la posicion 10 de 2 en dos\n",
        "  print(i)"
      ],
      "metadata": {
        "colab": {
          "base_uri": "https://localhost:8080/"
        },
        "id": "AWFr3Ix1Sndq",
        "outputId": "d48bc486-e894-404f-da61-3c14b35f5064"
      },
      "execution_count": 31,
      "outputs": [
        {
          "output_type": "stream",
          "name": "stdout",
          "text": [
            "0\n",
            "2\n",
            "4\n",
            "6\n",
            "8\n"
          ]
        }
      ]
    },
    {
      "cell_type": "code",
      "source": [
        "range(1,5)"
      ],
      "metadata": {
        "colab": {
          "base_uri": "https://localhost:8080/"
        },
        "id": "PNI2AxLUTFdm",
        "outputId": "14c739a2-e6b5-4eef-8998-30a85f83ec30"
      },
      "execution_count": 27,
      "outputs": [
        {
          "output_type": "execute_result",
          "data": {
            "text/plain": [
              "range(1, 5)"
            ]
          },
          "metadata": {},
          "execution_count": 27
        }
      ]
    },
    {
      "cell_type": "code",
      "source": [
        "i=1\n",
        "while i<4:\n",
        "  print(i)\n",
        "  i+=1"
      ],
      "metadata": {
        "colab": {
          "base_uri": "https://localhost:8080/"
        },
        "id": "Voo0CGxNTXy2",
        "outputId": "e95b0284-e232-4717-e22a-6b4c770969a8"
      },
      "execution_count": 40,
      "outputs": [
        {
          "output_type": "stream",
          "name": "stdout",
          "text": [
            "1\n",
            "2\n",
            "3\n"
          ]
        }
      ]
    },
    {
      "cell_type": "code",
      "source": [
        "x=10\n",
        "\n",
        "if x<10:\n",
        "  print(x,\"es menor a 10\")\n",
        "elif x>10:\n",
        "  print(x,\"es mayor a 10\")\n",
        "else:\n",
        "  print(x,\"es 10\")"
      ],
      "metadata": {
        "colab": {
          "base_uri": "https://localhost:8080/"
        },
        "id": "O-imR90IU5s8",
        "outputId": "4b4b05a0-7576-453a-ccf1-bfc8e75be263"
      },
      "execution_count": 50,
      "outputs": [
        {
          "output_type": "stream",
          "name": "stdout",
          "text": [
            "10 es 10\n"
          ]
        }
      ]
    },
    {
      "cell_type": "code",
      "source": [
        "#Se puede utilizar solo una condicion\n",
        "x=\"hola\"\n",
        "if type(x) != str:\n",
        "  print(\"No es texto\")\n",
        "elif type(x) ==str:\n",
        "  print(\"Es texto\")"
      ],
      "metadata": {
        "colab": {
          "base_uri": "https://localhost:8080/"
        },
        "id": "OZdT31UZV17f",
        "outputId": "96c0521d-4db0-478d-d10e-679a4bfc8244"
      },
      "execution_count": 62,
      "outputs": [
        {
          "output_type": "stream",
          "name": "stdout",
          "text": [
            "Es texto\n"
          ]
        }
      ]
    },
    {
      "cell_type": "code",
      "source": [
        "#Se puede utilizar una condcion y la exclusion\n",
        "x=15\n",
        "if x % 3 ==0:\n",
        "  print(\"x es multiplo de 3\")\n",
        "else:\n",
        "  print(\"x no es multiplo de 3\")"
      ],
      "metadata": {
        "colab": {
          "base_uri": "https://localhost:8080/"
        },
        "id": "IOAtI0DhWbqD",
        "outputId": "938e0a75-f838-43fd-8bd5-e6d446b1c949"
      },
      "execution_count": 63,
      "outputs": [
        {
          "output_type": "stream",
          "name": "stdout",
          "text": [
            "x es multiplo de 3\n"
          ]
        }
      ]
    },
    {
      "cell_type": "code",
      "source": [
        "x=20\n",
        "x%3 ==2   #%es el resto de la division"
      ],
      "metadata": {
        "colab": {
          "base_uri": "https://localhost:8080/"
        },
        "id": "miwu1RKUXRXh",
        "outputId": "ee409b23-f3b4-4ca0-d6c0-e0bc68b37175"
      },
      "execution_count": 67,
      "outputs": [
        {
          "output_type": "execute_result",
          "data": {
            "text/plain": [
              "True"
            ]
          },
          "metadata": {},
          "execution_count": 67
        }
      ]
    },
    {
      "cell_type": "code",
      "source": [
        "#ordenar listas usando append- Append sirve para agregar  \"!= distinto de \"\n",
        "lista_original= [3,1,2,3,4,5,4,6,4,3]\n",
        "lista_sin_tres=[]\n",
        "for x in lista_original:\n",
        "  if x != 3:\n",
        "     lista_sin_tres.append(x)\n",
        "print(lista_sin_tres)"
      ],
      "metadata": {
        "colab": {
          "base_uri": "https://localhost:8080/"
        },
        "id": "sYm3L65fX_LG",
        "outputId": "ce2a9b83-e7b1-453e-ae28-e2b03b18a2b7"
      },
      "execution_count": 81,
      "outputs": [
        {
          "output_type": "stream",
          "name": "stdout",
          "text": [
            "[1, 2, 4, 5, 4, 6, 4]\n"
          ]
        }
      ]
    },
    {
      "cell_type": "code",
      "source": [
        "#version alternativa usando remove\n",
        "lista_original= [3,1,2,3,4,5,4,6,4,3]\n",
        "for x in lista_original:\n",
        "  if x==3:\n",
        "    lista_original.remove(x)\n",
        "print(lista_original)"
      ],
      "metadata": {
        "colab": {
          "base_uri": "https://localhost:8080/"
        },
        "id": "HvbYP4FCZefS",
        "outputId": "bd4e732d-1e32-4145-ed09-d6c7ebc3dc75"
      },
      "execution_count": 82,
      "outputs": [
        {
          "output_type": "stream",
          "name": "stdout",
          "text": [
            "[1, 2, 4, 5, 4, 6, 4]\n"
          ]
        }
      ]
    },
    {
      "cell_type": "code",
      "source": [
        "\n",
        "# eliminar con del de un diccionario. Elimina un elemento especifico del diccionario\n",
        "\n",
        "diccionario={\"a\":1,\"b\":2, \"c\":3}\n",
        "del diccionario[\"b\"]\n",
        "print(diccionario)"
      ],
      "metadata": {
        "colab": {
          "base_uri": "https://localhost:8080/"
        },
        "id": "ymFEzhvDZ3wm",
        "outputId": "cf9ecc9c-5582-439a-ce1f-156dbc30f26c"
      },
      "execution_count": 84,
      "outputs": [
        {
          "output_type": "stream",
          "name": "stdout",
          "text": [
            "{'a': 1, 'c': 3}\n"
          ]
        }
      ]
    },
    {
      "cell_type": "code",
      "source": [
        "# eliminar con pop() de un diccionario. Elimina un elemento especifico del diccionario mediante la clave correspondiente y valor asociado a esa clae\n",
        "diccionario={\"a\":1,\"b\":2, \"c\":3}\n",
        "valor=diccionario.pop(\"b\")\n",
        "print(diccionario)\n",
        "print(valor)#tenia valor 2"
      ],
      "metadata": {
        "colab": {
          "base_uri": "https://localhost:8080/"
        },
        "id": "lu2wliOSaueq",
        "outputId": "a694f2e1-7fee-43e5-82a5-fa4b6214af7f"
      },
      "execution_count": 86,
      "outputs": [
        {
          "output_type": "stream",
          "name": "stdout",
          "text": [
            "{'a': 1, 'c': 3}\n",
            "2\n"
          ]
        }
      ]
    },
    {
      "cell_type": "code",
      "source": [
        "#agregar cosas a un diccionario\n",
        "diccionario= { \"Nombre\":\"juan\", \"Edad\":12, \"Ocupación\":\"estudiante\" }\n",
        "diccionario"
      ],
      "metadata": {
        "colab": {
          "base_uri": "https://localhost:8080/"
        },
        "id": "KM81cV8tbOYL",
        "outputId": "67d4e589-a2d8-4358-f9d2-4b3648194f50"
      },
      "execution_count": 87,
      "outputs": [
        {
          "output_type": "execute_result",
          "data": {
            "text/plain": [
              "{'Nombre': 'juan', 'Edad': 12, 'Ocupación': 'estudiante'}"
            ]
          },
          "metadata": {},
          "execution_count": 87
        }
      ]
    },
    {
      "cell_type": "code",
      "source": [
        "#agregar elemento a un diccionario\n",
        "diccionario[\"DNI\"]=40000000\n",
        "diccionario"
      ],
      "metadata": {
        "colab": {
          "base_uri": "https://localhost:8080/"
        },
        "id": "fq-XSN7sbjNq",
        "outputId": "8bccb669-148a-42c2-997a-1157ceb1ea64"
      },
      "execution_count": 89,
      "outputs": [
        {
          "output_type": "execute_result",
          "data": {
            "text/plain": [
              "{'Nombre': 'juan', 'Edad': 12, 'Ocupación': 'estudiante', 'DNI': 40000000}"
            ]
          },
          "metadata": {},
          "execution_count": 89
        }
      ]
    },
    {
      "cell_type": "code",
      "source": [
        "#Editar elemento de un diccionario\n",
        "diccionario[\"DNI\"]=35000000\n",
        "diccionario"
      ],
      "metadata": {
        "colab": {
          "base_uri": "https://localhost:8080/"
        },
        "id": "O34UEsLQbv28",
        "outputId": "8184ffc7-372e-485a-c5c4-cf71103a6d38"
      },
      "execution_count": 91,
      "outputs": [
        {
          "output_type": "execute_result",
          "data": {
            "text/plain": [
              "{'Nombre': 'juan', 'Edad': 12, 'Ocupación': 'estudiante', 'DNI': 35000000}"
            ]
          },
          "metadata": {},
          "execution_count": 91
        }
      ]
    },
    {
      "cell_type": "markdown",
      "source": [
        "#FUNCIONES"
      ],
      "metadata": {
        "id": "wYevVWhjcQP-"
      }
    },
    {
      "cell_type": "code",
      "source": [
        "def my_function():\n",
        "  print(\"Hello from a function\")"
      ],
      "metadata": {
        "id": "Iw5plYeEcR4s"
      },
      "execution_count": 92,
      "outputs": []
    },
    {
      "cell_type": "code",
      "source": [
        "my_function()"
      ],
      "metadata": {
        "colab": {
          "base_uri": "https://localhost:8080/"
        },
        "id": "iBhRD8JOcb1S",
        "outputId": "2e4ef061-cbed-4d3c-95cb-a4d4ad76e9f6"
      },
      "execution_count": 93,
      "outputs": [
        {
          "output_type": "stream",
          "name": "stdout",
          "text": [
            "Hello from a function\n"
          ]
        }
      ]
    },
    {
      "cell_type": "code",
      "source": [
        "def my_function(nombre):\n",
        "  print(nombre,\"es tutor de coderhouse\")"
      ],
      "metadata": {
        "id": "YK1CQHmrcfSj"
      },
      "execution_count": 96,
      "outputs": []
    },
    {
      "cell_type": "code",
      "source": [
        "my_function(\"German\")\n",
        "my_function(\"Gustavo\")\n",
        "my_function(\"Jose\")"
      ],
      "metadata": {
        "colab": {
          "base_uri": "https://localhost:8080/"
        },
        "id": "ph2PGjuLcfYX",
        "outputId": "be26a9f5-045a-454f-c319-729c79a63605"
      },
      "execution_count": 98,
      "outputs": [
        {
          "output_type": "stream",
          "name": "stdout",
          "text": [
            "German es tutor de coderhouse\n",
            "Gustavo es tutor de coderhouse\n",
            "Jose es tutor de coderhouse\n"
          ]
        }
      ]
    },
    {
      "cell_type": "code",
      "source": [
        "  def repetir_nveces(n:int, texto:str):\n",
        "      if type(texto) != str:\n",
        "         raise Exception(\"TypeError in texto\")\n",
        "      pass\n",
        "      if type(n) != int:\n",
        "        raise Exception (\"TypeError in n\")\n",
        "      pass\n",
        "      return n*texto"
      ],
      "metadata": {
        "id": "P1obHj33c9Vn"
      },
      "execution_count": 120,
      "outputs": []
    },
    {
      "cell_type": "code",
      "source": [
        "repetir_nveces(3,\"coderhouse\")"
      ],
      "metadata": {
        "colab": {
          "base_uri": "https://localhost:8080/",
          "height": 35
        },
        "id": "2NITEfIldwD-",
        "outputId": "247444e0-3b00-46a9-f642-f1a3412d2ede"
      },
      "execution_count": 122,
      "outputs": [
        {
          "output_type": "execute_result",
          "data": {
            "text/plain": [
              "'coderhousecoderhousecoderhouse'"
            ],
            "application/vnd.google.colaboratory.intrinsic+json": {
              "type": "string"
            }
          },
          "metadata": {},
          "execution_count": 122
        }
      ]
    },
    {
      "cell_type": "code",
      "source": [
        "#elevar al cuadrado 10 claves de una lista\n",
        "lista=[]\n",
        "for i in range (10):\n",
        "      lista.append(i**2)\n",
        "lista"
      ],
      "metadata": {
        "colab": {
          "base_uri": "https://localhost:8080/"
        },
        "id": "-mZhE3bbffyh",
        "outputId": "a036fb92-8707-444d-9436-f2a348e0844e"
      },
      "execution_count": 126,
      "outputs": [
        {
          "output_type": "execute_result",
          "data": {
            "text/plain": [
              "[0, 1, 4, 9, 16, 25, 36, 49, 64, 81]"
            ]
          },
          "metadata": {},
          "execution_count": 126
        }
      ]
    }
  ]
}